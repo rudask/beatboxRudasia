{
 "cells": [
  {
   "cell_type": "code",
   "execution_count": 8,
   "metadata": {
    "collapsed": false
   },
   "outputs": [
    {
     "ename": "IndentationError",
     "evalue": "expected an indented block (<ipython-input-8-153f3df20abb>, line 18)",
     "output_type": "error",
     "traceback": [
      "\u001b[1;36m  File \u001b[1;32m\"<ipython-input-8-153f3df20abb>\"\u001b[1;36m, line \u001b[1;32m18\u001b[0m\n\u001b[1;33m    cyferki[i]=int(x[i][2])\u001b[0m\n\u001b[1;37m          ^\u001b[0m\n\u001b[1;31mIndentationError\u001b[0m\u001b[1;31m:\u001b[0m expected an indented block\n"
     ]
    }
   ],
   "source": [
    "import numpy as np\n",
    "from numpy import r_ as c\n",
    "import scipy.signal\n",
    "import scipy.io.wavfile\n",
    "def fala_mua(ktory,folder):\n",
    "    miedzy_nr=2\n",
    "    miedzy_liter=1.1224620534321632\n",
    "    miedzy_pol=1.0594630994594263\n",
    "    cyfry=np.arange(0,10)-4\n",
    "    litery=np.array(['C','D','E','F','G','A','B'])\n",
    "    x=np.genfromtxt(fname=folder+\"track\"+ktory+\".txt\",dtype=str)\n",
    "    x=x[:,0]\n",
    "    cyferki=np.repeat(0,len(x))\n",
    "    literki=np.repeat(\"\",len(x))\n",
    "    polowki=np.repeat(\"\",len(x))\n",
    "    for i in np.arange(0,len(x)):\n",
    "        if x[i]!=\"---\":\n",
    "        cyferki[i]=int(x[i][2])\n",
    "        literki[i]=x[i][0]\n",
    "        polowki[i]=x[i][1]\n",
    "    czest=np.repeat(440,len(x))\n",
    "    czest[np.where (x==\"---\")]=0;\n",
    "    cyferki_nowe=cyferki-4\n",
    "    for i in np.arange(0,len(x)):\n",
    "        if x[i]!='---':\n",
    "            if cyferki_nowe[i]<0:\n",
    "                czest[i]=czest[i]/(miedzy_nr**np.abs(cyferki_nowe[i]))\n",
    "            if cyferki_nowe[i]>0:\n",
    "                czest[i]=czest[i]*miedzy_nr**cyferki_nowe[i]\n",
    "    literki_poz=np.repeat(0,len(x))\n",
    "    for i in np.arange(0,len(litery)):\n",
    "        literki_poz[np.where(literki==litery[i])]=i-5\n",
    "    for i in np.arange(0,len(x)):\n",
    "        if literki_poz[i]<0:\n",
    "            czest[i]=czest[i]/(miedzy_liter**np.abs(literki_poz[i]))\n",
    "        if literki_poz[i]>0:\n",
    "            czest[i]=czest[i]*miedzy_liter**literki_poz[i]\n",
    "    czest[np.where(polowki==\"#\")]=czest[np.where(polowki==\"#\")]*miedzy_pol\n",
    "    s = open(folder+'defs.txt', 'r')\n",
    "    newDict={}\n",
    "    for line in s:\n",
    "        listedline = line.strip().split(':')\n",
    "        if len(listedline) > 1:\n",
    "            newDict[listedline[0]] = float(listedline[1])\n",
    "    timebeat=60/newDict['bpm']\n",
    "    dl=len(x)\n",
    "    dl_track=dl*timebeat\n",
    "    dl_track_czest=dl*timebeat*44100\n",
    "    t = np.linspace(0, dl_track, dl_track_czest)\n",
    "    f=np.repeat(0,len(t))\n",
    "    for i in np.arange(0,len(czest)):\n",
    "        f_temp=np.repeat(czest[i],len(t)/len(czest))\n",
    "        f[i*len(t)/len(czest):((i+1)*len(t)/len(czest))]=f_temp\n",
    "    fala=np.sin(2*np.pi*f*t)\n",
    "    return fala"
   ]
  },
  {
   "cell_type": "code",
   "execution_count": 8,
   "metadata": {
    "collapsed": false
   },
   "outputs": [
    {
     "data": {
      "text/plain": [
       "29"
      ]
     },
     "execution_count": 8,
     "metadata": {},
     "output_type": "execute_result"
    }
   ],
   "source": [
    "import numpy as np\n",
    "from numpy import r_ as c\n",
    "import scipy.signal\n",
    "import scipy.io.wavfile\n",
    "miedzy_nr=2\n",
    "miedzy_liter=1.1224620534321632\n",
    "miedzy_pol=1.0594630994594263\n",
    "cyfry=np.arange(0,10)-4\n",
    "litery=np.array(['C','D','E','F','G','A','B'])\n",
    "x=np.genfromtxt(fname=folder+\"track\"+ktory+\".txt\",dtype=str)\n",
    "x=x[:,0]\n",
    "cyferki=np.repeat(0,len(x))\n",
    "literki=np.repeat(\"\",len(x))\n",
    "polowki=np.repeat(\"\",len(x))\n",
    "for i in np.arange(0,len(x)):\n",
    "    if x[i]!=\"---\":\n",
    "        cyferki[i]=int(x[i][2])\n",
    "        literki[i]=x[i][0]\n",
    "        polowki[i]=x[i][1]\n",
    "czest=np.repeat(440,len(x))\n",
    "czest[np.where (x==\"---\")]=0;\n",
    "cyferki_nowe=cyferki-4\n",
    "for i in np.arange(0,len(x)):\n",
    "    if x[i]!='---':\n",
    "        if cyferki_nowe[i]<0:\n",
    "            czest[i]=czest[i]/(miedzy_nr**np.abs(cyferki_nowe[i]))\n",
    "        if cyferki_nowe[i]>0:\n",
    "            czest[i]=czest[i]*miedzy_nr**cyferki_nowe[i]\n",
    "literki_poz=np.repeat(0,len(x))\n",
    "for i in np.arange(0,len(litery)):\n",
    "    literki_poz[np.where(literki==litery[i])]=i-5\n",
    "for i in np.arange(0,len(x)):\n",
    "    if literki_poz[i]<0:\n",
    "        czest[i]=czest[i]/(miedzy_liter**np.abs(literki_poz[i]))\n",
    "    if literki_poz[i]>0:\n",
    "        czest[i]=czest[i]*miedzy_liter**literki_poz[i]\n",
    "czest[np.where(polowki==\"#\")]=czest[np.where(polowki==\"#\")]*miedzy_pol\n",
    "s = open(folder+'defs.txt', 'r')\n",
    "newDict={}\n",
    "for line in s:\n",
    "    listedline = line.strip().split(':')\n",
    "    if len(listedline) > 1:\n",
    "        newDict[listedline[0]] = float(listedline[1])\n",
    "timebeat=60/newDict['bpm']\n",
    "dl=len(x)\n",
    "dl_track=dl*timebeat\n",
    "dl_track_czest=dl*timebeat*44100\n",
    "t = np.linspace(0, dl_track, dl_track_czest)\n",
    "f=np.repeat(0,len(t))\n",
    "for i in np.arange(0,len(czest)):\n",
    "    f_temp=np.repeat(czest[i],len(t)/len(czest))\n",
    "    f[i*len(t)/len(czest):((i+1)*len(t)/len(czest))]=f_temp\n",
    "fala=np.sin(2*np.pi*f*t)\n"
   ]
  },
  {
   "cell_type": "code",
   "execution_count": 3,
   "metadata": {
    "collapsed": false
   },
   "outputs": [],
   "source": [
    "import fala_mua\n",
    "\n",
    "ktory=\"01\"\n",
    "folder=\"song_1/\"\n",
    "#scipy.io.wavfile.write('/var/tmp/test.wav',\n",
    "                       #44100,\n",
    "                       #np.int16(fala/max(np.abs(fala))*32767))\n",
    "#!!aplay /var/tmp/test.wav"
   ]
  },
  {
   "cell_type": "code",
   "execution_count": 9,
   "metadata": {
    "collapsed": false
   },
   "outputs": [],
   "source": [
    "import klej_song"
   ]
  },
  {
   "cell_type": "code",
   "execution_count": 10,
   "metadata": {
    "collapsed": false
   },
   "outputs": [
    {
     "ename": "IndexError",
     "evalue": "too many indices for array",
     "output_type": "error",
     "traceback": [
      "\u001b[1;31m---------------------------------------------------------------------------\u001b[0m",
      "\u001b[1;31mIndexError\u001b[0m                                Traceback (most recent call last)",
      "\u001b[1;32m<ipython-input-10-cbc2eaae0cd4>\u001b[0m in \u001b[0;36m<module>\u001b[1;34m()\u001b[0m\n\u001b[1;32m----> 1\u001b[1;33m \u001b[0mklej_song\u001b[0m\u001b[1;33m.\u001b[0m\u001b[0mklej_song\u001b[0m\u001b[1;33m(\u001b[0m\u001b[1;34m\"song_1/\"\u001b[0m\u001b[1;33m)\u001b[0m\u001b[1;33m\u001b[0m\u001b[0m\n\u001b[0m",
      "\u001b[1;32m/home/krzysztof/python2/klej_song.py\u001b[0m in \u001b[0;36mklej_song\u001b[1;34m(folder)\u001b[0m\n\u001b[0;32m     11\u001b[0m     \u001b[1;32mfor\u001b[0m \u001b[0mi\u001b[0m \u001b[1;32min\u001b[0m \u001b[0mnp\u001b[0m\u001b[1;33m.\u001b[0m\u001b[0marange\u001b[0m\u001b[1;33m(\u001b[0m\u001b[1;36m0\u001b[0m\u001b[1;33m,\u001b[0m\u001b[0mlen\u001b[0m\u001b[1;33m(\u001b[0m\u001b[0mx\u001b[0m\u001b[1;33m)\u001b[0m\u001b[1;33m)\u001b[0m\u001b[1;33m:\u001b[0m\u001b[1;33m\u001b[0m\u001b[0m\n\u001b[0;32m     12\u001b[0m         \u001b[0mfala01\u001b[0m\u001b[1;33m=\u001b[0m\u001b[0mfala_track\u001b[0m\u001b[1;33m.\u001b[0m\u001b[0mfala_track\u001b[0m\u001b[1;33m(\u001b[0m\u001b[0mx\u001b[0m\u001b[1;33m[\u001b[0m\u001b[0mi\u001b[0m\u001b[1;33m]\u001b[0m\u001b[1;33m,\u001b[0m\u001b[0mfolder\u001b[0m\u001b[1;33m)\u001b[0m\u001b[1;33m\u001b[0m\u001b[0m\n\u001b[1;32m---> 13\u001b[1;33m         \u001b[0mfala02\u001b[0m\u001b[1;33m=\u001b[0m\u001b[0mfala_mua\u001b[0m\u001b[1;33m.\u001b[0m\u001b[0mfala_mua\u001b[0m\u001b[1;33m(\u001b[0m\u001b[0mx\u001b[0m\u001b[1;33m[\u001b[0m\u001b[0mi\u001b[0m\u001b[1;33m]\u001b[0m\u001b[1;33m,\u001b[0m\u001b[0mfolder\u001b[0m\u001b[1;33m)\u001b[0m\u001b[1;33m\u001b[0m\u001b[0m\n\u001b[0m\u001b[0;32m     14\u001b[0m         \u001b[0mfala01\u001b[0m\u001b[1;33m=\u001b[0m\u001b[0mfala01\u001b[0m\u001b[1;33m+\u001b[0m\u001b[0mfala02\u001b[0m\u001b[1;33m\u001b[0m\u001b[0m\n\u001b[0;32m     15\u001b[0m         \u001b[0mfala\u001b[0m\u001b[1;33m=\u001b[0m\u001b[0mc\u001b[0m\u001b[1;33m[\u001b[0m\u001b[0mfala\u001b[0m\u001b[1;33m,\u001b[0m\u001b[0mfala01\u001b[0m\u001b[1;33m]\u001b[0m\u001b[1;33m\u001b[0m\u001b[0m\n",
      "\u001b[1;32m/home/krzysztof/python2/fala_mua.py\u001b[0m in \u001b[0;36mfala_mua\u001b[1;34m(ktory, folder)\u001b[0m\n\u001b[0;32m     52\u001b[0m     \u001b[1;32mfor\u001b[0m \u001b[0mi\u001b[0m \u001b[1;32min\u001b[0m \u001b[0mnp\u001b[0m\u001b[1;33m.\u001b[0m\u001b[0marange\u001b[0m\u001b[1;33m(\u001b[0m\u001b[1;36m0\u001b[0m\u001b[1;33m,\u001b[0m\u001b[0mlen\u001b[0m\u001b[1;33m(\u001b[0m\u001b[0mczest\u001b[0m\u001b[1;33m)\u001b[0m\u001b[1;33m)\u001b[0m\u001b[1;33m:\u001b[0m\u001b[1;33m\u001b[0m\u001b[0m\n\u001b[0;32m     53\u001b[0m         \u001b[0mf_temp\u001b[0m\u001b[1;33m=\u001b[0m\u001b[0mnp\u001b[0m\u001b[1;33m.\u001b[0m\u001b[0mrepeat\u001b[0m\u001b[1;33m(\u001b[0m\u001b[0mczest\u001b[0m\u001b[1;33m[\u001b[0m\u001b[0mi\u001b[0m\u001b[1;33m]\u001b[0m\u001b[1;33m,\u001b[0m\u001b[0mlen\u001b[0m\u001b[1;33m(\u001b[0m\u001b[0mt\u001b[0m\u001b[1;33m)\u001b[0m\u001b[1;33m/\u001b[0m\u001b[0mlen\u001b[0m\u001b[1;33m(\u001b[0m\u001b[0mczest\u001b[0m\u001b[1;33m)\u001b[0m\u001b[1;33m)\u001b[0m\u001b[1;33m\u001b[0m\u001b[0m\n\u001b[1;32m---> 54\u001b[1;33m         \u001b[0mf\u001b[0m\u001b[1;33m[\u001b[0m\u001b[0mi\u001b[0m\u001b[1;33m*\u001b[0m\u001b[0mlen\u001b[0m\u001b[1;33m(\u001b[0m\u001b[0mt\u001b[0m\u001b[1;33m)\u001b[0m\u001b[1;33m/\u001b[0m\u001b[0mlen\u001b[0m\u001b[1;33m(\u001b[0m\u001b[0mczest\u001b[0m\u001b[1;33m)\u001b[0m\u001b[1;33m:\u001b[0m\u001b[1;33m(\u001b[0m\u001b[1;33m(\u001b[0m\u001b[0mi\u001b[0m\u001b[1;33m+\u001b[0m\u001b[1;36m1\u001b[0m\u001b[1;33m)\u001b[0m\u001b[1;33m*\u001b[0m\u001b[0mlen\u001b[0m\u001b[1;33m(\u001b[0m\u001b[0mt\u001b[0m\u001b[1;33m)\u001b[0m\u001b[1;33m/\u001b[0m\u001b[0mlen\u001b[0m\u001b[1;33m(\u001b[0m\u001b[0mczest\u001b[0m\u001b[1;33m)\u001b[0m\u001b[1;33m)\u001b[0m\u001b[1;33m]\u001b[0m\u001b[1;33m=\u001b[0m\u001b[0mf_temp\u001b[0m\u001b[1;33m\u001b[0m\u001b[0m\n\u001b[0m\u001b[0;32m     55\u001b[0m     \u001b[0mfala\u001b[0m\u001b[1;33m=\u001b[0m\u001b[0mnp\u001b[0m\u001b[1;33m.\u001b[0m\u001b[0msin\u001b[0m\u001b[1;33m(\u001b[0m\u001b[1;36m2\u001b[0m\u001b[1;33m*\u001b[0m\u001b[0mnp\u001b[0m\u001b[1;33m.\u001b[0m\u001b[0mpi\u001b[0m\u001b[1;33m*\u001b[0m\u001b[0mf\u001b[0m\u001b[1;33m*\u001b[0m\u001b[0mt\u001b[0m\u001b[1;33m)\u001b[0m\u001b[1;33m/\u001b[0m\u001b[0mmian\u001b[0m\u001b[1;33m\u001b[0m\u001b[0m\n\u001b[0;32m     56\u001b[0m     \u001b[1;32mreturn\u001b[0m \u001b[0mfala\u001b[0m\u001b[1;33m\u001b[0m\u001b[0m\n",
      "\u001b[1;31mIndexError\u001b[0m: too many indices for array"
     ]
    }
   ],
   "source": [
    "klej_song.klej_song(\"song_1/\")"
   ]
  }
 ],
 "metadata": {
  "kernelspec": {
   "display_name": "Python 3",
   "language": "python",
   "name": "python3"
  },
  "language_info": {
   "codemirror_mode": {
    "name": "ipython",
    "version": 3
   },
   "file_extension": ".py",
   "mimetype": "text/x-python",
   "name": "python",
   "nbconvert_exporter": "python",
   "pygments_lexer": "ipython3",
   "version": "3.4.3"
  }
 },
 "nbformat": 4,
 "nbformat_minor": 0
}
