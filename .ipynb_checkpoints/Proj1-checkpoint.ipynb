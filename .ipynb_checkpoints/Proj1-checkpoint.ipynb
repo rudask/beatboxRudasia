{
 "cells": [
  {
   "cell_type": "code",
   "execution_count": null,
   "metadata": {
    "collapsed": true
   },
   "outputs": [],
   "source": [
    "import numpy as np\n",
    "from numpy import r_ as c\n",
    "import scipy.signal\n",
    "import scipy.io.wavfile"
   ]
  },
  {
   "cell_type": "code",
   "execution_count": null,
   "metadata": {
    "collapsed": false
   },
   "outputs": [],
   "source": [
    "x=np.genfromtxt(fname=\"track01.txt\",dtype=str)"
   ]
  },
  {
   "cell_type": "code",
   "execution_count": 8,
   "metadata": {
    "collapsed": false
   },
   "outputs": [],
   "source": [
    "s = open('defs.txt', 'r')\n",
    "newDict={}\n",
    "for line in s:\n",
    "    listedline = line.strip().split(':') # split around the = sign\n",
    "    if len(listedline) > 1: # we have the = sign in there\n",
    "        newDict[listedline[0]] = float(listedline[1])\n",
    "\n"
   ]
  },
  {
   "cell_type": "code",
   "execution_count": 9,
   "metadata": {
    "collapsed": false
   },
   "outputs": [
    {
     "name": "stderr",
     "output_type": "stream",
     "text": [
      "/home/krzysztof/anaconda3/lib/python3.4/site-packages/scipy/io/wavfile.py:172: WavFileWarning: Chunk (non-data) not understood, skipping it.\n",
      "  WavFileWarning)\n"
     ]
    }
   ],
   "source": [
    "timebeat=60/newDict['bpm']\n",
    "dl=len(x[:,1])\n",
    "dl_track=dl*timebeat\n",
    "dl_track_czest=dl*timebeat*44100\n",
    "dlugosc_track=np.arange(0,dl_track_czest+1)\n",
    "fala=np.repeat(0.0,len(dlugosc_track))\n",
    "for j in np.arange(0,len(x[1,:])):\n",
    "\n",
    "    fs,y = scipy.io.wavfile.read('sample0'+(j+1)+'.wav')\n",
    "       \n",
    "    y = np.mean(y,axis=1)\n",
    "    y /= 32767\n",
    "\n",
    "    dlugosc=np.arange(0,dl_track+timebeat,timebeat)\n",
    "\n",
    "    ktore=np.array([])\n",
    "    for i in np.arange(0,len(x[:,1])):\n",
    "        if x[i,j]=='0'+str(j+1):\n",
    "            ktore=c[ktore,i]\n",
    "\n",
    "    wstaw=dlugosc[ktore.tolist()]\n",
    "    wstaw=wstaw*44100\n",
    "    dlugosc_track=np.arange(0,dl_track_czest+1)\n",
    "    fala01=np.repeat(0.0,len(dlugosc_track))\n",
    "    for i in np.arange(0,len(wstaw)):\n",
    "        if (dl_track_czest+1-wstaw[i])>=len(y):\n",
    "            fala01[wstaw[i]:(wstaw[i]+len(y))]=fala01[wstaw[i]:(wstaw[i]+len(y))]+y\n",
    "        else:\n",
    "            y_uc=y[0:(dl_track_czest+1-wstaw[i])]\n",
    "            fala01[wstaw[i]:(wstaw[i]+len(y_uc))]=fala01[wstaw[i]:(wstaw[i]+len(y_uc))]+y_uc\n",
    "\n",
    "    fala=fala+fala01/len(x[1,:])\n"
   ]
  },
  {
   "cell_type": "code",
   "execution_count": 13,
   "metadata": {
    "collapsed": false
   },
   "outputs": [
    {
     "data": {
      "text/plain": [
       "[\"Playing WAVE '/var/tmp/test.wav' : Signed 16 bit Little Endian, Rate 44100 Hz, Mono\"]"
      ]
     },
     "execution_count": 13,
     "metadata": {},
     "output_type": "execute_result"
    }
   ],
   "source": [
    "scipy.io.wavfile.write('/var/tmp/test.wav',\n",
    "                       fs,\n",
    "                       np.int16(fala/max(np.abs(fala))*32767))\n",
    "!!aplay /var/tmp/test.wav\n"
   ]
  },
  {
   "cell_type": "code",
   "execution_count": 16,
   "metadata": {
    "collapsed": false
   },
   "outputs": [
    {
     "data": {
      "text/plain": [
       "array([ 0.,  0.,  0., ...,  0.,  0.,  0.])"
      ]
     },
     "execution_count": 16,
     "metadata": {},
     "output_type": "execute_result"
    }
   ],
   "source": [
    "fala01"
   ]
  }
 ],
 "metadata": {
  "kernelspec": {
   "display_name": "Python 3",
   "language": "python",
   "name": "python3"
  },
  "language_info": {
   "codemirror_mode": {
    "name": "ipython",
    "version": 3
   },
   "file_extension": ".py",
   "mimetype": "text/x-python",
   "name": "python",
   "nbconvert_exporter": "python",
   "pygments_lexer": "ipython3",
   "version": "3.4.3"
  }
 },
 "nbformat": 4,
 "nbformat_minor": 0
}
